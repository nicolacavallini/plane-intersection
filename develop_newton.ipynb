{
 "cells": [
  {
   "cell_type": "code",
   "execution_count": null,
   "metadata": {},
   "outputs": [],
   "source": [
    "import sympy as sy\n",
    "import tools as tl\n",
    "#x, y, z = sy.symbols('x y z')\n",
    "r, s, t = sy.symbols('r s t')"
   ]
  },
  {
   "cell_type": "code",
   "execution_count": null,
   "metadata": {},
   "outputs": [],
   "source": [
    "f = (r-3)**2 + (s-2)**2"
   ]
  },
  {
   "cell_type": "code",
   "execution_count": null,
   "metadata": {},
   "outputs": [],
   "source": [
    "from sympy.utilities.lambdify import lambdify\n",
    "\n",
    "#(gr,gs) = tl.get_jacobian(f,r,s)\n",
    "\n",
    "fl, grl, gsl = tl.get_lamdas(f,r,s)\n",
    "\n",
    "# fl = lambdify((r,s),f)\n",
    "# grl = lambdify((r,s),gr)\n",
    "# gsl = lambdify((r,s),gs)"
   ]
  },
  {
   "cell_type": "code",
   "execution_count": null,
   "metadata": {},
   "outputs": [],
   "source": [
    "r0 = 0.\n",
    "s0 = 0.\n",
    "for i in range(10):\n",
    "    r1 = r0 - fl(r0,s0)/grl(r0,s0)\n",
    "    s1 = s0 - fl(r0,s0)/gsl(r0,s0)\n",
    "    print(r1,s1)\n",
    "    print(\"stocazzo\")\n",
    "    r0 = r1\n",
    "    s0 = s1"
   ]
  },
  {
   "cell_type": "code",
   "execution_count": null,
   "metadata": {},
   "outputs": [],
   "source": []
  }
 ],
 "metadata": {
  "kernelspec": {
   "display_name": "Python 3",
   "language": "python",
   "name": "python3"
  },
  "language_info": {
   "codemirror_mode": {
    "name": "ipython",
    "version": 3
   },
   "file_extension": ".py",
   "mimetype": "text/x-python",
   "name": "python",
   "nbconvert_exporter": "python",
   "pygments_lexer": "ipython3",
   "version": "3.6.4"
  }
 },
 "nbformat": 4,
 "nbformat_minor": 2
}
